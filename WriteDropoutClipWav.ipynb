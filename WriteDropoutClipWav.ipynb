{
 "cells": [
  {
   "cell_type": "code",
   "execution_count": 1,
   "metadata": {},
   "outputs": [],
   "source": [
    "%matplotlib inline\n",
    "from scipy import signal\n",
    "from scipy.io import wavfile\n",
    "import matplotlib.pyplot as plt\n",
    "from pylab import *\n",
    "import numpy as np\n",
    "file = 'Dropouts/Frosty.wav'\n",
    "#file = 'Dropouts/AdAstra.wav'\n",
    "#file = 'Dropouts/0146output.wav'\n",
    "\n",
    "samplingFrequency, signalData = wavfile.read(file)\n",
    "if signalData.shape[-1] == len(signalData):\n",
    "    channels = 1\n",
    "else:\n",
    "    channels = signalData.shape[1]\n",
    "\n"
   ]
  },
  {
   "cell_type": "code",
   "execution_count": 16,
   "metadata": {},
   "outputs": [],
   "source": [
    "import numpy as np\n",
    "from scipy.io.wavfile import write\n",
    "\n",
    "decade = 2.6  #2.6\n",
    "start = int(decade*100000000) + 901051  #901051  #901091 #420599\n",
    "start = 1442000\n",
    "start = start - 4800\n",
    "end = start + 9600   #373989616 #start + 12000  #373989616\n",
    "\n",
    "decade = 0 #.28  #2.6\n",
    "start = int(decade*100000000) + 490681  #39152 #839152  #901051  #901091 #420599\n",
    "start = 6039071               \n",
    "start = start -48000\n",
    "end = start + 2*48000   #373989616 #start + 12000  #373989616\n",
    "\n",
    "write('G:/Data/BobC/Programming/Python2.7.6/programs/Disney/test.wav', 48000, signalData[start-48000:end+96000])"
   ]
  },
  {
   "cell_type": "code",
   "execution_count": 13,
   "metadata": {},
   "outputs": [
    {
     "data": {
      "text/plain": [
       "5435.3385625"
      ]
     },
     "execution_count": 13,
     "metadata": {},
     "output_type": "execute_result"
    }
   ],
   "source": [
    "start/48000"
   ]
  },
  {
   "cell_type": "code",
   "execution_count": null,
   "metadata": {},
   "outputs": [],
   "source": []
  }
 ],
 "metadata": {
  "kernelspec": {
   "display_name": "Python 3",
   "language": "python",
   "name": "python3"
  },
  "language_info": {
   "codemirror_mode": {
    "name": "ipython",
    "version": 3
   },
   "file_extension": ".py",
   "mimetype": "text/x-python",
   "name": "python",
   "nbconvert_exporter": "python",
   "pygments_lexer": "ipython3",
   "version": "3.6.5"
  }
 },
 "nbformat": 4,
 "nbformat_minor": 2
}
